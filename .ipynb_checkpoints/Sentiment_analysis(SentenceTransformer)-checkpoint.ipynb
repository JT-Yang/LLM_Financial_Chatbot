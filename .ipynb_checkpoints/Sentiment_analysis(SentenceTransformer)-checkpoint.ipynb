{
 "cells": [
  {
   "cell_type": "markdown",
   "id": "b4c50d4e",
   "metadata": {},
   "source": [
    "# Using SentenceTransformer/GPT to analyze sentiment"
   ]
  },
  {
   "cell_type": "markdown",
   "id": "249dda47",
   "metadata": {},
   "source": [
    "# 1. Sentence Transformer "
   ]
  },
  {
   "cell_type": "markdown",
   "id": "08e6eab4",
   "metadata": {},
   "source": [
    "## Load data"
   ]
  },
  {
   "cell_type": "code",
   "execution_count": null,
   "id": "d38e02c9",
   "metadata": {},
   "outputs": [],
   "source": [
    "pip install torch "
   ]
  },
  {
   "cell_type": "code",
   "execution_count": null,
   "id": "c3784ec2",
   "metadata": {},
   "outputs": [],
   "source": [
    "pip install transformers"
   ]
  },
  {
   "cell_type": "code",
   "execution_count": 1,
   "id": "08d63b6d",
   "metadata": {},
   "outputs": [],
   "source": [
    "import torch\n",
    "import pandas as pd\n",
    "import numpy as np\n",
    "from transformers import AutoTokenizer, AutoModel\n",
    "from sklearn.model_selection import train_test_split\n",
    "from xgboost import XGBRegressor\n",
    "from sklearn.model_selection import KFold"
   ]
  },
  {
   "cell_type": "code",
   "execution_count": 2,
   "id": "88510ce1",
   "metadata": {},
   "outputs": [
    {
     "data": {
      "text/html": [
       "<div>\n",
       "<style scoped>\n",
       "    .dataframe tbody tr th:only-of-type {\n",
       "        vertical-align: middle;\n",
       "    }\n",
       "\n",
       "    .dataframe tbody tr th {\n",
       "        vertical-align: top;\n",
       "    }\n",
       "\n",
       "    .dataframe thead th {\n",
       "        text-align: right;\n",
       "    }\n",
       "</style>\n",
       "<table border=\"1\" class=\"dataframe\">\n",
       "  <thead>\n",
       "    <tr style=\"text-align: right;\">\n",
       "      <th></th>\n",
       "      <th>sentiment</th>\n",
       "      <th>sentence</th>\n",
       "    </tr>\n",
       "  </thead>\n",
       "  <tbody>\n",
       "    <tr>\n",
       "      <th>0</th>\n",
       "      <td>neutral</td>\n",
       "      <td>According to Gran , the company has no plans t...</td>\n",
       "    </tr>\n",
       "    <tr>\n",
       "      <th>1</th>\n",
       "      <td>neutral</td>\n",
       "      <td>Technopolis plans to develop in stages an area...</td>\n",
       "    </tr>\n",
       "    <tr>\n",
       "      <th>2</th>\n",
       "      <td>negative</td>\n",
       "      <td>The international electronic industry company ...</td>\n",
       "    </tr>\n",
       "    <tr>\n",
       "      <th>3</th>\n",
       "      <td>positive</td>\n",
       "      <td>With the new production plant the company woul...</td>\n",
       "    </tr>\n",
       "    <tr>\n",
       "      <th>4</th>\n",
       "      <td>positive</td>\n",
       "      <td>According to the company 's updated strategy f...</td>\n",
       "    </tr>\n",
       "  </tbody>\n",
       "</table>\n",
       "</div>"
      ],
      "text/plain": [
       "  sentiment                                           sentence\n",
       "0   neutral  According to Gran , the company has no plans t...\n",
       "1   neutral  Technopolis plans to develop in stages an area...\n",
       "2  negative  The international electronic industry company ...\n",
       "3  positive  With the new production plant the company woul...\n",
       "4  positive  According to the company 's updated strategy f..."
      ]
     },
     "execution_count": 2,
     "metadata": {},
     "output_type": "execute_result"
    }
   ],
   "source": [
    "data = pd.read_csv(\"/Users/rufen/Documents/GitHub/LLM_Financial_Chatbot/all-data.csv\",delimiter=',', encoding='latin-1', header=None)\n",
    "data = data.rename(columns = lambda x : ['sentiment','sentence'][x])\n",
    "data.head()"
   ]
  },
  {
   "cell_type": "code",
   "execution_count": 3,
   "id": "d9b59343",
   "metadata": {},
   "outputs": [
    {
     "name": "stdout",
     "output_type": "stream",
     "text": [
      "The shape of this data set is (4846, 2)\n",
      "<class 'pandas.core.frame.DataFrame'>\n",
      "RangeIndex: 4846 entries, 0 to 4845\n",
      "Data columns (total 2 columns):\n",
      " #   Column     Non-Null Count  Dtype \n",
      "---  ------     --------------  ----- \n",
      " 0   sentiment  4846 non-null   object\n",
      " 1   sentence   4846 non-null   object\n",
      "dtypes: object(2)\n",
      "memory usage: 75.8+ KB\n",
      "None\n",
      "sentiment    0.0\n",
      "sentence     0.0\n",
      "dtype: float64\n"
     ]
    }
   ],
   "source": [
    "print('The shape of this data set is', data.shape)\n",
    "print(data.info())\n",
    "print(data.isnull().mean())"
   ]
  },
  {
   "cell_type": "code",
   "execution_count": 4,
   "id": "babc783d",
   "metadata": {},
   "outputs": [
    {
     "data": {
      "text/plain": [
       "neutral     2879\n",
       "positive    1363\n",
       "negative     604\n",
       "Name: sentiment, dtype: int64"
      ]
     },
     "execution_count": 4,
     "metadata": {},
     "output_type": "execute_result"
    }
   ],
   "source": [
    "data['sentiment'].value_counts()"
   ]
  },
  {
   "cell_type": "markdown",
   "id": "ab8b98d3",
   "metadata": {},
   "source": [
    "#### I just didi EDA part in another notebook, so, here, skip this part"
   ]
  },
  {
   "cell_type": "markdown",
   "id": "f00fa26d",
   "metadata": {},
   "source": [
    "## Prepare data"
   ]
  },
  {
   "cell_type": "markdown",
   "id": "e7f316ba",
   "metadata": {},
   "source": [
    "### Clean data"
   ]
  },
  {
   "cell_type": "code",
   "execution_count": 5,
   "id": "141c8fc5",
   "metadata": {},
   "outputs": [],
   "source": [
    "# define functions \n",
    "from bs4 import BeautifulSoup\n",
    "\n",
    "def strip_html_tags(text):\n",
    "  soup = BeautifulSoup(text, \"html.parser\")\n",
    "  [s.extract() for s in soup(['iframe', 'script'])]\n",
    "  stripped_text = soup.get_text()\n",
    "  stripped_text = re.sub(r'[\\r|\\n|\\r\\n]+', '\\n', stripped_text)\n",
    "  return stripped_text\n",
    "\n",
    "def remove_accented_chars(text):\n",
    "  text = unicodedata.normalize('NFKD', text).encode('ascii', 'ignore').decode('utf-8', 'ignore')\n",
    "  return text\n",
    "\n",
    "def stopwords_removal(words):\n",
    "    list_stopwords = nltk.corpus.stopwords.words('english')\n",
    "    return [word for word in words if word not in list_stopwords]"
   ]
  },
  {
   "cell_type": "code",
   "execution_count": null,
   "id": "38d7a806",
   "metadata": {},
   "outputs": [],
   "source": [
    "pip install contractions"
   ]
  },
  {
   "cell_type": "code",
   "execution_count": 6,
   "id": "f654db5c",
   "metadata": {},
   "outputs": [
    {
     "name": "stderr",
     "output_type": "stream",
     "text": [
      "[nltk_data] Downloading package punkt to /Users/rufen/nltk_data...\n",
      "[nltk_data]   Package punkt is already up-to-date!\n",
      "[nltk_data] Downloading package stopwords to /Users/rufen/nltk_data...\n",
      "[nltk_data]   Package stopwords is already up-to-date!\n"
     ]
    }
   ],
   "source": [
    "#  NLP data cleaning process\n",
    "import re\n",
    "import nltk\n",
    "nltk.download('punkt')\n",
    "nltk.download('stopwords')\n",
    "import tqdm\n",
    "import unicodedata\n",
    "import contractions\n",
    "\n",
    "from nltk.tokenize import word_tokenize\n",
    "\n",
    "def pre_process_corpus(docs):\n",
    "  norm_docs = []\n",
    "  for doc in tqdm.tqdm(docs):\n",
    "    #case folding\n",
    "    doc = doc.lower()\n",
    "    #remove special characters\\whitespaces\n",
    "    doc = strip_html_tags(doc)\n",
    "    doc = doc.translate(doc.maketrans(\"\\n\\t\\r\", \"   \"))\n",
    "    doc = remove_accented_chars(doc)\n",
    "    doc = contractions.fix(doc)\n",
    "    doc = re.sub(r'[^a-zA-Z0-9\\s]', '', doc, re.I|re.A)\n",
    "    doc = re.sub(' +', ' ', doc)\n",
    "    doc = doc.strip()\n",
    "    #tokenize\n",
    "    doc = word_tokenize(doc)\n",
    "    #filtering\n",
    "    doc = stopwords_removal(doc)\n",
    "    norm_docs.append(doc)\n",
    "  \n",
    "  norm_docs = [\" \".join(word) for word in norm_docs]\n",
    "  return norm_docs"
   ]
  },
  {
   "cell_type": "code",
   "execution_count": 7,
   "id": "4b37f954",
   "metadata": {},
   "outputs": [
    {
     "name": "stderr",
     "output_type": "stream",
     "text": [
      " 20%|███████▋                              | 973/4846 [00:00<00:01, 2128.65it/s]/var/folders/mq/6chk45p9099bllbg1_nny_bc0000gn/T/ipykernel_96044/1686883243.py:5: MarkupResemblesLocatorWarning: The input looks more like a filename than markup. You may want to open this file and pass the filehandle into Beautiful Soup.\n",
      "  soup = BeautifulSoup(text, \"html.parser\")\n",
      "100%|█████████████████████████████████████| 4846/4846 [00:01<00:00, 3450.33it/s]"
     ]
    },
    {
     "name": "stdout",
     "output_type": "stream",
     "text": [
      "CPU times: user 1.24 s, sys: 155 ms, total: 1.39 s\n",
      "Wall time: 1.43 s\n"
     ]
    },
    {
     "name": "stderr",
     "output_type": "stream",
     "text": [
      "\n"
     ]
    }
   ],
   "source": [
    "%%time\n",
    "data.sentence = pre_process_corpus(data.sentence)"
   ]
  },
  {
   "cell_type": "code",
   "execution_count": 8,
   "id": "e754cac8",
   "metadata": {},
   "outputs": [
    {
     "data": {
      "text/html": [
       "<div>\n",
       "<style scoped>\n",
       "    .dataframe tbody tr th:only-of-type {\n",
       "        vertical-align: middle;\n",
       "    }\n",
       "\n",
       "    .dataframe tbody tr th {\n",
       "        vertical-align: top;\n",
       "    }\n",
       "\n",
       "    .dataframe thead th {\n",
       "        text-align: right;\n",
       "    }\n",
       "</style>\n",
       "<table border=\"1\" class=\"dataframe\">\n",
       "  <thead>\n",
       "    <tr style=\"text-align: right;\">\n",
       "      <th></th>\n",
       "      <th>sentiment</th>\n",
       "      <th>sentence</th>\n",
       "    </tr>\n",
       "  </thead>\n",
       "  <tbody>\n",
       "    <tr>\n",
       "      <th>0</th>\n",
       "      <td>neutral</td>\n",
       "      <td>according gran company plans move production r...</td>\n",
       "    </tr>\n",
       "    <tr>\n",
       "      <th>1</th>\n",
       "      <td>neutral</td>\n",
       "      <td>technopolis plans develop stages area less 100...</td>\n",
       "    </tr>\n",
       "    <tr>\n",
       "      <th>2</th>\n",
       "      <td>negative</td>\n",
       "      <td>international electronic industry company elco...</td>\n",
       "    </tr>\n",
       "    <tr>\n",
       "      <th>3</th>\n",
       "      <td>positive</td>\n",
       "      <td>new production plant company would increase ca...</td>\n",
       "    </tr>\n",
       "    <tr>\n",
       "      <th>4</th>\n",
       "      <td>positive</td>\n",
       "      <td>according company updated strategy years 20092...</td>\n",
       "    </tr>\n",
       "  </tbody>\n",
       "</table>\n",
       "</div>"
      ],
      "text/plain": [
       "  sentiment                                           sentence\n",
       "0   neutral  according gran company plans move production r...\n",
       "1   neutral  technopolis plans develop stages area less 100...\n",
       "2  negative  international electronic industry company elco...\n",
       "3  positive  new production plant company would increase ca...\n",
       "4  positive  according company updated strategy years 20092..."
      ]
     },
     "execution_count": 8,
     "metadata": {},
     "output_type": "execute_result"
    }
   ],
   "source": [
    "data.head()"
   ]
  },
  {
   "cell_type": "markdown",
   "id": "1d1557c0",
   "metadata": {},
   "source": [
    "### Imbalance handling"
   ]
  },
  {
   "cell_type": "code",
   "execution_count": 20,
   "id": "409ec6de",
   "metadata": {},
   "outputs": [],
   "source": [
    "df1=data[data['sentiment']=='positive']\n",
    "df2=data[data['sentiment']=='negative']"
   ]
  },
  {
   "cell_type": "code",
   "execution_count": 21,
   "id": "119e1a59",
   "metadata": {},
   "outputs": [
    {
     "name": "stdout",
     "output_type": "stream",
     "text": [
      "before upsampling, the number of negative sentence is 604\n",
      "before upsampling, the number of positive sentence is 1363\n",
      "after upsampling:\n",
      "positive    1363\n",
      "negative    1363\n",
      "Name: sentiment, dtype: int64\n"
     ]
    }
   ],
   "source": [
    "df_negative_upsampled = resample(df2, replace = True,\n",
    "                                n_samples = df1.shape[0],\n",
    "                                random_state = 123)\n",
    "\n",
    "df_balanced = pd.concat([df1,df_negative_upsampled])\n",
    "\n",
    "print(\"before upsampling, the number of negative sentence is\", df2.shape[0])\n",
    "print(\"before upsampling, the number of positive sentence is\", df1.shape[0])\n",
    "print(\"after upsampling:\\n\", df_balanced.sentiment.value_counts(),sep=\"\")"
   ]
  },
  {
   "cell_type": "code",
   "execution_count": 27,
   "id": "04d33df2",
   "metadata": {},
   "outputs": [
    {
     "data": {
      "text/plain": [
       "1    1363\n",
       "0    1363\n",
       "Name: sentiment, dtype: int64"
      ]
     },
     "execution_count": 27,
     "metadata": {},
     "output_type": "execute_result"
    }
   ],
   "source": [
    "df_balanced['sentiment'] = df_balanced['sentiment'].apply(lambda x : 1 if x == 'positive' else 0)\n",
    "df_balanced['sentiment'].value_counts()"
   ]
  },
  {
   "cell_type": "markdown",
   "id": "da8d0676",
   "metadata": {},
   "source": [
    "### Split data"
   ]
  },
  {
   "cell_type": "code",
   "execution_count": 28,
   "id": "790bb9f5",
   "metadata": {},
   "outputs": [
    {
     "data": {
      "text/plain": [
       "((2453,), (273,), (2453,), (273,))"
      ]
     },
     "execution_count": 28,
     "metadata": {},
     "output_type": "execute_result"
    }
   ],
   "source": [
    "from sklearn.model_selection import train_test_split\n",
    "\n",
    "X_train, X_test, y_train, y_test = train_test_split(df_balanced.sentence, df_balanced.sentiment, test_size=0.1, random_state=42)\n",
    "X_train.shape , X_test.shape, y_train.shape, y_test.shape"
   ]
  },
  {
   "cell_type": "markdown",
   "id": "3bc16c1b",
   "metadata": {},
   "source": [
    "## Modeling"
   ]
  },
  {
   "cell_type": "code",
   "execution_count": 14,
   "id": "2fc94276",
   "metadata": {},
   "outputs": [],
   "source": [
    "from transformers import AutoTokenizer, AutoModel\n",
    "\n",
    "tokenizer = AutoTokenizer.from_pretrained('sentence-transformers/all-MiniLM-L6-v2')\n",
    "model = AutoModel.from_pretrained('sentence-transformers/all-MiniLM-L6-v2')"
   ]
  },
  {
   "cell_type": "code",
   "execution_count": 15,
   "id": "4fb9ab51",
   "metadata": {},
   "outputs": [],
   "source": [
    "device = 'cuda' if torch.cuda.is_available() else 'cpu'  ## for faster computation\n",
    "# tokenizer.add_tokens(['[TITLE]: ','[SUMMARY]: '])\n",
    "# model.resize_token_embeddings(len(tokenizer))\n",
    "model.to(device)\n",
    "\n",
    "\n",
    "def get_embeddings(text):\n",
    "    ## encode the input text using a pre-trained tokenize\n",
    "    input_ids = tokenizer.encode(text,\n",
    "                                 add_special_tokens=True,\n",
    "                                 truncation=True,\n",
    "                                 return_tensors='pt').to(device)\n",
    "    \n",
    "    with torch.inference_mode():\n",
    "        # get the output of the last hidden states\n",
    "        last_hidden_state = model(input_ids)[0].to(device)\n",
    "        # calculate the embeddings for the input text by taking the mean of the lasthidden state across all tokens in the input sequence.\n",
    "        # across all tokens int he input sequence\n",
    "        embeddings = torch.mean(last_hidden_state,dim=1).squeeze().to(device)\n",
    "        \n",
    "    return embeddings.cpu().numpy() ## move the embedding back to cpu"
   ]
  },
  {
   "cell_type": "code",
   "execution_count": 54,
   "id": "6d2b82ab",
   "metadata": {},
   "outputs": [],
   "source": [
    "## tokenize the dataset\n",
    "train_embeddings = np.array([get_embeddings(text) for text in X_train])\n",
    "\n",
    "X = train_embeddings\n",
    "y = y_train  # Assuming y_train contains sentiment labels directly"
   ]
  },
  {
   "cell_type": "code",
   "execution_count": null,
   "id": "95057c2c",
   "metadata": {},
   "outputs": [],
   "source": [
    "# # Apply PCA to reduce the dimensionality of embedded sentences\n",
    "# from sklearn.decomposition import PCA\n",
    "\n",
    "# pca = PCA(n_components=100)  # Adjust the number of components as needed\n",
    "# X_train_pca = pca.fit_transform(X)"
   ]
  },
  {
   "cell_type": "markdown",
   "id": "a805e26b",
   "metadata": {},
   "source": [
    "### Parameter tuning\n",
    "* n_estimators: The number of boosting rounds.\n",
    "* learning_rate: Step size shrinkage used in update to prevent overfitting.\n",
    "* max_depth: Maximum depth of a tree. Increasing this value will make the model more complex and more likely to overfit.\n",
    "* subsample: Subsample ratio of the training instances. Setting it to 0.5 means that XGBoost randomly collects half of the data instances to grow trees and this prevents overfitting.\n",
    "* colsample_bytree: The subsample ratio of columns when constructing each tree. Subsampling occurs once for every tree constructed.\n",
    "\n",
    "The process involves splitting the training data into k distinct subsets (or folds), then training the model k times, each time using a different fold as the validation set and the remaining k−1 folds as the training set."
   ]
  },
  {
   "cell_type": "code",
   "execution_count": 44,
   "id": "3b05381d",
   "metadata": {},
   "outputs": [
    {
     "name": "stdout",
     "output_type": "stream",
     "text": [
      "Fold 1/7\n",
      "Accuracy for Fold 1: 0.9373\n",
      "F1 Score for Fold 1: 0.9364\n",
      "Fold 2/7\n",
      "Accuracy for Fold 2: 0.9202\n",
      "F1 Score for Fold 2: 0.9141\n",
      "Fold 3/7\n",
      "Accuracy for Fold 3: 0.9231\n",
      "F1 Score for Fold 3: 0.9194\n",
      "Fold 4/7\n",
      "Accuracy for Fold 4: 0.9371\n",
      "F1 Score for Fold 4: 0.9349\n",
      "Fold 5/7\n",
      "Accuracy for Fold 5: 0.9229\n",
      "F1 Score for Fold 5: 0.9256\n",
      "Fold 6/7\n",
      "Accuracy for Fold 6: 0.9714\n",
      "F1 Score for Fold 6: 0.9697\n",
      "Fold 7/7\n",
      "Accuracy for Fold 7: 0.9200\n",
      "F1 Score for Fold 7: 0.9235\n",
      "Average Accuracy across all folds: 0.9332\n",
      "Average F1 Score across all folds: 0.9320\n"
     ]
    }
   ],
   "source": [
    "from sklearn.metrics import accuracy_score, f1_score\n",
    "from sklearn.model_selection import KFold\n",
    "from xgboost import XGBClassifier\n",
    "\n",
    "# Split the data into k folds\n",
    "k = 7\n",
    "kf = KFold(n_splits=k, shuffle=True, random_state=42)\n",
    "\n",
    "accuracy_scores = []\n",
    "f1_scores = []\n",
    "\n",
    "for fold, (train_index, val_index) in enumerate(kf.split(X)):\n",
    "    print(f\"Fold {fold + 1}/{k}\")\n",
    "    \n",
    "    # Convert X to a pandas DataFrame if it's a numpy array\n",
    "    if isinstance(X, np.ndarray):\n",
    "        X = pd.DataFrame(X)\n",
    "        \n",
    "    # Splitting data for this fold\n",
    "    fold_X_train, fold_X_val = X.iloc[train_index], X.iloc[val_index]\n",
    "    fold_y_train, fold_y_val = y.iloc[train_index], y.iloc[val_index]\n",
    "\n",
    "    # Initialize and train XGBoost classifier instead of regressor\n",
    "    xgb = XGBClassifier(n_estimators=495, \n",
    "                        max_depth=4, \n",
    "                        learning_rate=0.0419905195591556,\n",
    "                        subsample=0.8, \n",
    "                        reg_lambda=0.25, \n",
    "                        random_state=42)\n",
    "    xgb.fit(fold_X_train, fold_y_train)\n",
    "    \n",
    "    # Make predictions and evaluate\n",
    "    fold_preds = xgb.predict(fold_X_val)\n",
    "    fold_accuracy = accuracy_score(fold_y_val, fold_preds)\n",
    "    fold_f1 = f1_score(fold_y_val, fold_preds)\n",
    "    \n",
    "    accuracy_scores.append(fold_accuracy)\n",
    "    f1_scores.append(fold_f1)\n",
    "    \n",
    "    print(f\"Accuracy for Fold {fold + 1}: {fold_accuracy:.4f}\")\n",
    "    print(f\"F1 Score for Fold {fold + 1}: {fold_f1:.4f}\")\n",
    "\n",
    "# Calculate and print the average metrics across all folds\n",
    "average_accuracy = sum(accuracy_scores) / len(accuracy_scores)\n",
    "average_f1 = sum(f1_scores) / len(f1_scores)\n",
    "print(f\"Average Accuracy across all folds: {average_accuracy:.4f}\")\n",
    "print(f\"Average F1 Score across all folds: {average_f1:.4f}\")"
   ]
  },
  {
   "cell_type": "markdown",
   "id": "f77887c1",
   "metadata": {},
   "source": [
    "###  custom loss function \n",
    "* MCRMSE stands for Mean Column-wise Root Mean Squared Error.\n",
    "* more typical in multi-output regression scenarios where predictions are made on multiple targets simultaneously.\n",
    "\n",
    "<!-- # def mcrmse_score(Y_true, Y_pred):\n",
    "#     Y_diff = Y_true - Y_pred\n",
    "#     mse_arr = (Y_diff * Y_diff).mean(axis = 0)\n",
    "#     mcrmse = np.sqrt(mse_arr).mean()\n",
    "#     return mcrmse -->"
   ]
  },
  {
   "cell_type": "markdown",
   "id": "b5d6ba7a",
   "metadata": {},
   "source": [
    "### Test"
   ]
  },
  {
   "cell_type": "code",
   "execution_count": 46,
   "id": "b02bb6ea",
   "metadata": {},
   "outputs": [
    {
     "name": "stdout",
     "output_type": "stream",
     "text": [
      "[0 1 1 1 1 0 1 1 1 1 1 0 0 0 0 0 1 1 1 0 0 0 1 0 1 0 1 0 1 0 0 0 1 1 1 1 0\n",
      " 1 1 1 1 1 1 1 1 0 1 0 1 0 0 0 0 0 0 0 0 1 0 1 0 0 1 0 1 0 1 1 1 1 0 0 0 1\n",
      " 0 0 1 0 1 1 0 1 0 1 1 0 0 0 0 0 1 1 1 1 1 1 1 0 1 0 0 1 0 1 1 0 1 0 1 0 0\n",
      " 0 0 0 0 0 1 0 0 1 0 1 1 1 1 1 0 1 0 0 1 0 0 1 0 1 1 1 0 0 0 1 0 1 0 0 0 1\n",
      " 0 1 1 1 1 1 0 0 1 0 0 1 0 0 0 1 1 0 0 0 1 1 1 1 1 0 0 1 1 0 1 0 0 0 1 0 0\n",
      " 0 0 1 1 0 1 0 0 1 1 1 1 1 0 0 1 1 0 0 0 0 0 0 0 1 0 1 0 0 1 1 1 1 1 0 0 1\n",
      " 0 0 0 0 0 0 1 1 0 0 1 0 0 1 0 1 1 1 0 1 0 0 0 0 0 0 1 1 0 1 1 1 1 0 1 0 1\n",
      " 1 0 0 0 1 1 0 0 0 1 1 0 0 0]\n"
     ]
    }
   ],
   "source": [
    "test_embeddings = np.array([get_embeddings(text) for text in X_test])\n",
    "\n",
    "predictions = xgb.predict(test_embeddings)\n",
    "print(predictions)"
   ]
  },
  {
   "cell_type": "code",
   "execution_count": 53,
   "id": "2d70c890",
   "metadata": {},
   "outputs": [
    {
     "name": "stdout",
     "output_type": "stream",
     "text": [
      "CNN 1D Accuracy: 95.24%\n",
      "CNN 1D Precision: 95.42%\n",
      "CNN 1D Recall: 95.49%\n",
      "CNN 1D f1_score: 95.24%\n",
      "              precision    recall  f1-score   support\n",
      "\n",
      "           0       0.91      1.00      0.95       129\n",
      "           1       1.00      0.91      0.95       144\n",
      "\n",
      "    accuracy                           0.95       273\n",
      "   macro avg       0.95      0.95      0.95       273\n",
      "weighted avg       0.96      0.95      0.95       273\n",
      "\n"
     ]
    },
    {
     "data": {
      "image/png": "[encoded data removed]",
      "text/plain": [
       "<Figure size 640x480 with 2 Axes>"
      ]
     },
     "metadata": {},
     "output_type": "display_data"
    }
   ],
   "source": [
    "from sklearn.metrics import confusion_matrix, classification_report, roc_auc_score, roc_curve\n",
    "from sklearn.metrics import accuracy_score, precision_score, recall_score, f1_score\n",
    "import matplotlib.pyplot as plt\n",
    "import seaborn as sns\n",
    "\n",
    "labels = ['positive', 'negative']\n",
    "print(\"CNN 1D Accuracy: %.2f%%\" % (accuracy_score(y_test, predictions)*100))\n",
    "print(\"CNN 1D Precision: %.2f%%\" % (precision_score(y_test, predictions, average=\"macro\")*100))\n",
    "print(\"CNN 1D Recall: %.2f%%\" % (recall_score(y_test,predictions, average=\"macro\")*100))\n",
    "print(\"CNN 1D f1_score: %.2f%%\" % (f1_score(y_test, predictions, average=\"macro\")*100))\n",
    "print(classification_report(y_test, predictions))\n",
    "\n",
    "cm_df=pd.DataFrame(confusion_matrix(y_test, predictions), index=labels, columns=labels)\n",
    "\n",
    "sns.heatmap(cm_df, annot=True, fmt=\"g\", cmap='Oranges')\n",
    "plt.title('Confusion Matrix')\n",
    "plt.ylabel('Actual Labels')\n",
    "plt.xlabel('Predicted Labels')\n",
    "plt.show()"
   ]
  },
  {
   "cell_type": "markdown",
   "id": "e3184f5e",
   "metadata": {},
   "source": [
    "# 2.GPT"
   ]
  },
  {
   "cell_type": "code",
   "execution_count": 64,
   "id": "b9ffa69b",
   "metadata": {},
   "outputs": [
    {
     "data": {
      "text/plain": [
       "1150    according arokarhu purchases scanned cash regi...\n",
       "547     finland insurance company pohjola finnish moto...\n",
       "1766    purpose action ensure company cost effectivene...\n",
       "284     would increase estimated sales 117 million las...\n",
       "1936    aim ensure vacon good shape capital expenditur...\n",
       "                              ...                        \n",
       "4844    net sales paper segment decreased eur 2216 mn ...\n",
       "2126    middle east north africa tecnotree grown consi...\n",
       "2182    reuse back pet bottles also steadily increased...\n",
       "4086    ebit excluding nonrecurring items estimated in...\n",
       "1482    intel atom processor tremendous success market...\n",
       "Name: sentence, Length: 2453, dtype: object"
      ]
     },
     "execution_count": 64,
     "metadata": {},
     "output_type": "execute_result"
    }
   ],
   "source": [
    "X_train"
   ]
  },
  {
   "cell_type": "code",
   "execution_count": null,
   "id": "c8605916",
   "metadata": {},
   "outputs": [],
   "source": [
    "pip install accelerate -U"
   ]
  },
  {
   "cell_type": "code",
   "execution_count": null,
   "id": "d530dfa1",
   "metadata": {},
   "outputs": [],
   "source": [
    "# example\n",
    "from transformers import GPT2Tokenizer, GPT2ForSequenceClassification, Trainer, TrainingArguments\n",
    "\n",
    "tokenizer = GPT2Tokenizer.from_pretrained('gpt2')\n",
    "model = GPT2ForSequenceClassification.from_pretrained('gpt2', num_labels=2)  # Assuming binary classification\n",
    "\n",
    "# Convert DataFrame column to list of strings\n",
    "sentences = X_train.tolist()\n",
    "\n",
    "# Add a new padding token\n",
    "tokenizer.add_special_tokens({'pad_token': '[PAD]'})\n",
    "\n",
    "# Tokenize your dataset\n",
    "train_encodings = tokenizer(sentences, truncation=True, padding=True, max_length=512)\n",
    "# Convert labels to a format compatible with GPT2ForSequenceClassification\n",
    "\n",
    "# Define TrainingArguments and use Trainer to fine-tune the model\n",
    "training_args = TrainingArguments(\n",
    "    output_dir='./results',          \n",
    "    num_train_epochs=3,              \n",
    "    per_device_train_batch_size=4,  \n",
    "    per_device_eval_batch_size=8,   \n",
    "    warmup_steps=500,                \n",
    "    weight_decay=0.01,               \n",
    "    logging_dir='./logs',            \n",
    ")\n",
    "\n",
    "trainer = Trainer(\n",
    "    model=model,                         \n",
    "    args=training_args,                  \n",
    "    train_dataset=X_train,         \n",
    ")\n",
    "\n",
    "trainer.train()"
   ]
  },
  {
   "cell_type": "code",
   "execution_count": null,
   "id": "4b9b6817",
   "metadata": {},
   "outputs": [],
   "source": [
    "# example\n",
    "import openai\n",
    "\n",
    "openai.api_key = 'your-api-key'\n",
    "\n",
    "response = openai.Completion.create(\n",
    "  engine=\"text-davinci-002\",  # or another available engine\n",
    "  prompt=\"This is a tweet sentiment classifier\\n\\nTweet: \\\"I love sunny days!\\\"\\nSentiment:\",\n",
    "  temperature=0.5,\n",
    "  max_tokens=60,\n",
    "  top_p=1.0,\n",
    "  frequency_penalty=0.0,\n",
    "  presence_penalty=0.0\n",
    ")\n",
    "\n",
    "print(response.choices[0].text.strip())"
   ]
  },
  {
   "cell_type": "markdown",
   "id": "fab91dc3",
   "metadata": {},
   "source": [
    "### LLM tagging"
   ]
  },
  {
   "cell_type": "code",
   "execution_count": 70,
   "id": "4d4224ac",
   "metadata": {},
   "outputs": [],
   "source": [
    "from langchain.chains import create_tagging_chain, create_tagging_chain_pydantic\n",
    "from langchain_openai import ChatOpenAI"
   ]
  },
  {
   "cell_type": "code",
   "execution_count": 72,
   "id": "38853da0",
   "metadata": {},
   "outputs": [],
   "source": [
    "# Schema\n",
    "schema = {\n",
    "    \"properties\": {\n",
    "        \"sentiment\": {\n",
    "            \"type\": \"integer\",\n",
    "            \"enum\": [1,0],\n",
    "            \"description\": \"describes the sentiment of the sentence, if the sentiment is positive, the value is 1, if it's negative, th evalue is 0\",\n",
    "        }\n",
    "}\n",
    "\n",
    "# LLM\n",
    "llm = ChatOpenAI(temperature=0, model=\"gpt-3.5-turbo-0613\", openai_api_key=\"\")\n",
    "chain = create_tagging_chain(schema, llm)"
   ]
  },
  {
   "cell_type": "code",
   "execution_count": null,
   "id": "c6448bf3",
   "metadata": {},
   "outputs": [],
   "source": [
    "# Assuming you have a test dataset `test_data` with sentences and sentiment labels\n",
    "\n",
    "# Initialize an empty list to store predicted sentiment labels\n",
    "predicted_sentiments = []\n",
    "\n",
    "# Iterate over the test data and generate predictions\n",
    "for sentence in X_test:\n",
    "    # Generate prediction using langchain model\n",
    "    prediction = chain(sentence)\n",
    "    # Extract the predicted sentiment label from the prediction\n",
    "#     predicted_sentiment = prediction['sentiment']\n",
    "    # Append the predicted sentiment label to the list\n",
    "    predicted_sentiments.append(prediction)\n",
    "\n",
    "return predicted_sentiments"
   ]
  },
  {
   "cell_type": "code",
   "execution_count": null,
   "id": "21226003",
   "metadata": {},
   "outputs": [],
   "source": [
    "# Calculate accuracy\n",
    "accuracy = accuracy_score(y_test, predicted_sentiments)\n",
    "print(\"Accuracy:\", accuracy)"
   ]
  },
  {
   "cell_type": "code",
   "execution_count": null,
   "id": "8dd16783",
   "metadata": {},
   "outputs": [],
   "source": [
    "labels = ['positive', 'negative']\n",
    "print(\"CNN 1D Accuracy: %.2f%%\" % (accuracy_score(y_test, predictions)*100))\n",
    "print(\"CNN 1D Precision: %.2f%%\" % (precision_score(y_test, predictions, average=\"macro\")*100))\n",
    "print(\"CNN 1D Recall: %.2f%%\" % (recall_score(y_test,predictions, average=\"macro\")*100))\n",
    "print(\"CNN 1D f1_score: %.2f%%\" % (f1_score(y_test, predictions, average=\"macro\")*100))\n",
    "print(classification_report(y_test, predictions))\n",
    "\n",
    "cm_df=pd.DataFrame(confusion_matrix(y_test, predictions), index=labels, columns=labels)\n",
    "\n",
    "sns.heatmap(cm_df, annot=True, fmt=\"g\", cmap='Oranges')\n",
    "plt.title('Confusion Matrix')\n",
    "plt.ylabel('Actual Labels')\n",
    "plt.xlabel('Predicted Labels')\n",
    "plt.show()"
   ]
  }
 ],
 "metadata": {
  "kernelspec": {
   "display_name": "Python 3 (ipykernel)",
   "language": "python",
   "name": "python3"
  },
  "language_info": {
   "codemirror_mode": {
    "name": "ipython",
    "version": 3
   },
   "file_extension": ".py",
   "mimetype": "text/x-python",
   "name": "python",
   "nbconvert_exporter": "python",
   "pygments_lexer": "ipython3",
   "version": "3.10.11"
  }
 },
 "nbformat": 4,
 "nbformat_minor": 5
}
